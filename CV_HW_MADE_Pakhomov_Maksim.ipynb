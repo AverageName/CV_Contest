{
  "nbformat": 4,
  "nbformat_minor": 0,
  "metadata": {
    "colab": {
      "provenance": []
    },
    "kernelspec": {
      "name": "python3",
      "display_name": "Python 3"
    },
    "language_info": {
      "name": "python"
    },
    "accelerator": "GPU",
    "gpuClass": "standard"
  },
  "cells": [
    {
      "cell_type": "code",
      "source": [
        "from IPython.display import clear_output"
      ],
      "metadata": {
        "id": "N7ZQTenGnlSF"
      },
      "execution_count": 2,
      "outputs": []
    },
    {
      "cell_type": "code",
      "source": [
        "!pip install timm\n",
        "clear_output()"
      ],
      "metadata": {
        "id": "tNrnUDC7pIdd"
      },
      "execution_count": 3,
      "outputs": []
    },
    {
      "cell_type": "code",
      "source": [
        "import torch\n",
        "import timm\n",
        "import pandas as pd\n",
        "import os\n",
        "import torchvision.transforms as transforms\n",
        "import torch.nn as nn\n",
        "import numpy as np\n",
        "\n",
        "from sklearn.metrics import f1_score\n",
        "from sklearn.model_selection import train_test_split\n",
        "from torch.utils.data import Dataset, DataLoader\n",
        "from PIL import Image\n",
        "from sklearn.linear_model import LogisticRegression\n",
        "from sklearn.svm import SVC"
      ],
      "metadata": {
        "id": "fxCQDOMst2Cx"
      },
      "execution_count": 14,
      "outputs": []
    },
    {
      "cell_type": "code",
      "source": [
        "!mkdir /content/sports_data/\n",
        "!cp -r /content/drive/MyDrive/sports_data/vk-made-sports-image-classification.zip /content/sports_data/\n",
        "!cd /content/sports_data/ && unzip /content/sports_data/vk-made-sports-image-classification.zip\n",
        "clear_output()"
      ],
      "metadata": {
        "id": "aSEhnnPjoCGf"
      },
      "execution_count": 9,
      "outputs": []
    },
    {
      "cell_type": "code",
      "source": [
        "def create_label_encoder(series):\n",
        "    label_encoder = {}\n",
        "    inverse_encoder = {}\n",
        "    counter = 0\n",
        "    for label in series:\n",
        "        if not label in label_encoder:\n",
        "            label_encoder[label] = counter\n",
        "            inverse_encoder[counter] = label\n",
        "            counter += 1\n",
        "    return label_encoder, inverse_encoder\n",
        "\n",
        "label_encoder, inverse_encoder = create_label_encoder(pd.read_csv(\"./sports_data/train.csv\")[\"label\"])"
      ],
      "metadata": {
        "id": "nD4Ofu_Avn7F"
      },
      "execution_count": 10,
      "outputs": []
    },
    {
      "cell_type": "code",
      "source": [
        "class SportDataset(Dataset):\n",
        "\n",
        "    def __init__(self, root, csv, transform, label_encoder=None, train=True):\n",
        "        super().__init__()\n",
        "\n",
        "        self.csv = csv\n",
        "        self.root = root\n",
        "        self.transform = transform\n",
        "        self.train = train\n",
        "        self.label_encoder = label_encoder\n",
        "    \n",
        "    def __len__(self, ):\n",
        "        return len(self.csv)\n",
        "    \n",
        "    def __getitem__(self, idx):\n",
        "        row = self.csv.iloc[idx]\n",
        "        image_path = os.path.join(self.root, row[0])\n",
        "\n",
        "        if not os.path.exists(image_path):\n",
        "            while not os.path.exists(image_path):\n",
        "                if idx + 1 > len(self.csv):\n",
        "                    idx = 0\n",
        "                else:\n",
        "                    idx += 1\n",
        "                row = self.csv.iloc[idx]\n",
        "                image_path = os.path.join(self.root, row[0])\n",
        "          \n",
        "        image = Image.open(image_path).convert(\"RGB\")\n",
        "\n",
        "        if self.transform is not None:\n",
        "            image = self.transform(image)\n",
        "        \n",
        "        if self.train:\n",
        "            label = self.label_encoder[row[1]]\n",
        "            return {\"image\": image, \"label\": label}\n",
        "        \n",
        "        return {\"image\": image}\n"
      ],
      "metadata": {
        "id": "ajkMM1WNuGZp"
      },
      "execution_count": 11,
      "outputs": []
    },
    {
      "cell_type": "code",
      "source": [
        "train_df, val_df = train_test_split(pd.read_csv(\"./sports_data/train.csv\"), test_size=0.2, random_state=42)\n",
        "test_df = pd.read_csv(\"./sports_data/test.csv\")"
      ],
      "metadata": {
        "id": "01zg-hEMg1hI"
      },
      "execution_count": 15,
      "outputs": []
    },
    {
      "cell_type": "code",
      "source": [
        "train_transform = transforms.Compose([transforms.RandomResizedCrop((224, 224), scale=(0.7, 1.0)),\n",
        "                                      transforms.RandomRotation(15),\n",
        "                                      transforms.RandomVerticalFlip(),\n",
        "                                      transforms.RandomHorizontalFlip(),\n",
        "                                      transforms.ToTensor(),\n",
        "                                      transforms.Normalize((0.5, 0.5, 0.5), (0.5, 0.5, 0.5)),\n",
        "                                      transforms.RandomErasing(scale=(0.02, 0.2))])\n",
        "\n",
        "test_transform = transforms.Compose([transforms.Resize((224, 224)),\n",
        "                                      transforms.ToTensor(),\n",
        "                                      transforms.Normalize((0.5, 0.5, 0.5), (0.5, 0.5, 0.5))])\n",
        "\n",
        "train_dataset = SportDataset(\"./sports_data/train\", train_df, train_transform, label_encoder)\n",
        "val_dataset = SportDataset(\"./sports_data/train\", val_df, test_transform, label_encoder)\n",
        "\n",
        "test_dataset = SportDataset(\"./sports_data/test\", test_df, test_transform, train=False)"
      ],
      "metadata": {
        "id": "dzGzrLySw256"
      },
      "execution_count": 16,
      "outputs": []
    },
    {
      "cell_type": "code",
      "source": [
        "train_dataloader = DataLoader(train_dataset, batch_size=128, shuffle=True, drop_last=True)\n",
        "val_dataloader = DataLoader(val_dataset, batch_size=128, shuffle=False)\n",
        "test_dataloader = DataLoader(test_dataset, batch_size=32, shuffle=False, drop_last=False)"
      ],
      "metadata": {
        "id": "FH-x04PYxTto"
      },
      "execution_count": 17,
      "outputs": []
    },
    {
      "cell_type": "markdown",
      "source": [
        "ViT + Sklearn log reg (or SVM)"
      ],
      "metadata": {
        "id": "oPpYuY4uJ1YP"
      }
    },
    {
      "cell_type": "code",
      "source": [
        "VIT = True"
      ],
      "metadata": {
        "id": "_E7A6qN9_TXA"
      },
      "execution_count": 18,
      "outputs": []
    },
    {
      "cell_type": "code",
      "source": [
        "if VIT:\n",
        "    model = timm.create_model(\"vit_large_patch16_224\", pretrained=True)\n",
        "else:\n",
        "    model = timm.create_model(\"convnext_small_in22k\", pretrained=True)\n",
        "    model.head.fc = nn.Identity()\n",
        "\n",
        "model.cuda();"
      ],
      "metadata": {
        "id": "xqhS-5xQ6-rw"
      },
      "execution_count": 19,
      "outputs": []
    },
    {
      "cell_type": "code",
      "source": [
        "@torch.no_grad()\n",
        "def get_vit_embed(model, batch, vit=True):\n",
        "    if vit:\n",
        "        x = model.forward_features(batch)\n",
        "        embeds = model.forward_head(x, pre_logits=True)\n",
        "    else:\n",
        "        embeds = model(batch)\n",
        "    return embeds"
      ],
      "metadata": {
        "id": "VcV91ZehI-9z"
      },
      "execution_count": 20,
      "outputs": []
    },
    {
      "cell_type": "code",
      "source": [
        "train_dataset = SportDataset(\"./sports_data/train\", train_df, test_transform, label_encoder)\n",
        "train_dataloader = DataLoader(train_dataset, batch_size=128, shuffle=False)"
      ],
      "metadata": {
        "id": "eUmiZkzQJ6TK"
      },
      "execution_count": 21,
      "outputs": []
    },
    {
      "cell_type": "markdown",
      "source": [
        "Here I am calculating embeddings from ViT for our images, once I calculate them once, I save them on google drive and just load them for faster experiments."
      ],
      "metadata": {
        "id": "CbUmmGnXpZfj"
      }
    },
    {
      "cell_type": "code",
      "source": [
        "train_embeds = []\n",
        "train_labels = []\n",
        "val_embeds = []\n",
        "val_labels = []\n",
        "test_embeds = []\n",
        "\n",
        "for idx, batch in enumerate(train_dataloader):\n",
        "    embed = get_vit_embed(model, batch[\"image\"].cuda(), VIT)\n",
        "    train_embeds.append(embed.cpu().numpy())\n",
        "    train_labels.append(batch[\"label\"].cpu().numpy())"
      ],
      "metadata": {
        "id": "p8y8AvwdIjw5"
      },
      "execution_count": null,
      "outputs": []
    },
    {
      "cell_type": "code",
      "source": [
        "train_embeds_concat = np.concatenate(train_embeds, axis=0)\n",
        "train_labels_concat = np.concatenate(train_labels)"
      ],
      "metadata": {
        "id": "Bk-F3C2wJhQ2"
      },
      "execution_count": null,
      "outputs": []
    },
    {
      "cell_type": "code",
      "source": [
        "#np.save(\"/content/drive/MyDrive/train_embeds.npy\", train_embeds_concat)\n",
        "#np.save(\"/content/drive/MyDrive/train_labels.npy\", train_labels_concat)"
      ],
      "metadata": {
        "id": "zPlnsUKmqf3U"
      },
      "execution_count": null,
      "outputs": []
    },
    {
      "cell_type": "code",
      "source": [
        "for idx, batch in enumerate(val_dataloader):\n",
        "    embed = get_vit_embed(model, batch[\"image\"].cuda(), VIT)\n",
        "    val_embeds.append(embed.cpu().numpy())\n",
        "    val_labels.append(batch[\"label\"].cpu().numpy())\n",
        "\n",
        "val_embeds_concat = np.concatenate(val_embeds, axis=0)\n",
        "val_labels_concat = np.concatenate(val_labels)"
      ],
      "metadata": {
        "id": "76gnvxWtMn9H"
      },
      "execution_count": null,
      "outputs": []
    },
    {
      "cell_type": "code",
      "source": [
        "#np.save(\"/content/drive/MyDrive/val_embeds.npy\", val_embeds_concat)\n",
        "#np.save(\"/content/drive/MyDrive/val_labels.npy\", val_labels_concat)"
      ],
      "metadata": {
        "id": "JXy2-PykqkBv"
      },
      "execution_count": null,
      "outputs": []
    },
    {
      "cell_type": "code",
      "source": [
        "for idx, batch in enumerate(test_dataloader):\n",
        "    embed = get_vit_embed(model, batch[\"image\"].cuda(), VIT)\n",
        "    test_embeds.append(embed.cpu().numpy())\n",
        "\n",
        "test_embeds_concat = np.concatenate(test_embeds, axis=0)"
      ],
      "metadata": {
        "id": "7pb7TgRMqJD0"
      },
      "execution_count": null,
      "outputs": []
    },
    {
      "cell_type": "code",
      "source": [
        "#np.save(\"/content/drive/MyDrive/test_embeds.npy\", test_embeds_concat)"
      ],
      "metadata": {
        "id": "4mAlm6aYqqiA"
      },
      "execution_count": null,
      "outputs": []
    },
    {
      "cell_type": "code",
      "source": [
        "full_embeds = np.concatenate([train_embeds_concat, val_embeds_concat], axis=0)\n",
        "full_labels = np.concatenate([train_labels_concat, val_labels_concat])"
      ],
      "metadata": {
        "id": "JChfUG8GPf-b"
      },
      "execution_count": null,
      "outputs": []
    },
    {
      "cell_type": "code",
      "source": [
        "#np.save(\"/content/drive/MyDrive/full_embeds.npy\", full_embeds)\n",
        "#np.save(\"/content/drive/MyDrive/full_labels.npy\", full_labels)"
      ],
      "metadata": {
        "id": "0mRhX717qoH3"
      },
      "execution_count": null,
      "outputs": []
    },
    {
      "cell_type": "code",
      "source": [
        "full_embeds = np.load(\"/content/drive/MyDrive/full_embeds.npy\")\n",
        "full_labels = np.load(\"/content/drive/MyDrive/full_labels.npy\")\n",
        "\n",
        "val_embeds = np.load(\"/content/drive/MyDrive/val_embeds.npy\")\n",
        "val_labels = np.load(\"/content/drive/MyDrive/val_labels.npy\")\n",
        "\n",
        "test_embeds_concat = np.load(\"/content/drive/MyDrive/test_embeds.npy\")"
      ],
      "metadata": {
        "id": "GgVoo-DRp4ND"
      },
      "execution_count": 22,
      "outputs": []
    },
    {
      "cell_type": "code",
      "source": [
        "clf = LogisticRegression()\n",
        "clf = SVC(C=2)\n",
        "clf.fit(full_embeds, full_labels)"
      ],
      "metadata": {
        "id": "07IJOZJTMzjs",
        "colab": {
          "base_uri": "https://localhost:8080/",
          "height": 75
        },
        "outputId": "6813f1a2-db8c-4c4e-9abe-39cd4bccf63c"
      },
      "execution_count": 23,
      "outputs": [
        {
          "output_type": "execute_result",
          "data": {
            "text/plain": [
              "SVC(C=2)"
            ],
            "text/html": [
              "<style>#sk-container-id-1 {color: black;background-color: white;}#sk-container-id-1 pre{padding: 0;}#sk-container-id-1 div.sk-toggleable {background-color: white;}#sk-container-id-1 label.sk-toggleable__label {cursor: pointer;display: block;width: 100%;margin-bottom: 0;padding: 0.3em;box-sizing: border-box;text-align: center;}#sk-container-id-1 label.sk-toggleable__label-arrow:before {content: \"▸\";float: left;margin-right: 0.25em;color: #696969;}#sk-container-id-1 label.sk-toggleable__label-arrow:hover:before {color: black;}#sk-container-id-1 div.sk-estimator:hover label.sk-toggleable__label-arrow:before {color: black;}#sk-container-id-1 div.sk-toggleable__content {max-height: 0;max-width: 0;overflow: hidden;text-align: left;background-color: #f0f8ff;}#sk-container-id-1 div.sk-toggleable__content pre {margin: 0.2em;color: black;border-radius: 0.25em;background-color: #f0f8ff;}#sk-container-id-1 input.sk-toggleable__control:checked~div.sk-toggleable__content {max-height: 200px;max-width: 100%;overflow: auto;}#sk-container-id-1 input.sk-toggleable__control:checked~label.sk-toggleable__label-arrow:before {content: \"▾\";}#sk-container-id-1 div.sk-estimator input.sk-toggleable__control:checked~label.sk-toggleable__label {background-color: #d4ebff;}#sk-container-id-1 div.sk-label input.sk-toggleable__control:checked~label.sk-toggleable__label {background-color: #d4ebff;}#sk-container-id-1 input.sk-hidden--visually {border: 0;clip: rect(1px 1px 1px 1px);clip: rect(1px, 1px, 1px, 1px);height: 1px;margin: -1px;overflow: hidden;padding: 0;position: absolute;width: 1px;}#sk-container-id-1 div.sk-estimator {font-family: monospace;background-color: #f0f8ff;border: 1px dotted black;border-radius: 0.25em;box-sizing: border-box;margin-bottom: 0.5em;}#sk-container-id-1 div.sk-estimator:hover {background-color: #d4ebff;}#sk-container-id-1 div.sk-parallel-item::after {content: \"\";width: 100%;border-bottom: 1px solid gray;flex-grow: 1;}#sk-container-id-1 div.sk-label:hover label.sk-toggleable__label {background-color: #d4ebff;}#sk-container-id-1 div.sk-serial::before {content: \"\";position: absolute;border-left: 1px solid gray;box-sizing: border-box;top: 0;bottom: 0;left: 50%;z-index: 0;}#sk-container-id-1 div.sk-serial {display: flex;flex-direction: column;align-items: center;background-color: white;padding-right: 0.2em;padding-left: 0.2em;position: relative;}#sk-container-id-1 div.sk-item {position: relative;z-index: 1;}#sk-container-id-1 div.sk-parallel {display: flex;align-items: stretch;justify-content: center;background-color: white;position: relative;}#sk-container-id-1 div.sk-item::before, #sk-container-id-1 div.sk-parallel-item::before {content: \"\";position: absolute;border-left: 1px solid gray;box-sizing: border-box;top: 0;bottom: 0;left: 50%;z-index: -1;}#sk-container-id-1 div.sk-parallel-item {display: flex;flex-direction: column;z-index: 1;position: relative;background-color: white;}#sk-container-id-1 div.sk-parallel-item:first-child::after {align-self: flex-end;width: 50%;}#sk-container-id-1 div.sk-parallel-item:last-child::after {align-self: flex-start;width: 50%;}#sk-container-id-1 div.sk-parallel-item:only-child::after {width: 0;}#sk-container-id-1 div.sk-dashed-wrapped {border: 1px dashed gray;margin: 0 0.4em 0.5em 0.4em;box-sizing: border-box;padding-bottom: 0.4em;background-color: white;}#sk-container-id-1 div.sk-label label {font-family: monospace;font-weight: bold;display: inline-block;line-height: 1.2em;}#sk-container-id-1 div.sk-label-container {text-align: center;}#sk-container-id-1 div.sk-container {/* jupyter's `normalize.less` sets `[hidden] { display: none; }` but bootstrap.min.css set `[hidden] { display: none !important; }` so we also need the `!important` here to be able to override the default hidden behavior on the sphinx rendered scikit-learn.org. See: https://github.com/scikit-learn/scikit-learn/issues/21755 */display: inline-block !important;position: relative;}#sk-container-id-1 div.sk-text-repr-fallback {display: none;}</style><div id=\"sk-container-id-1\" class=\"sk-top-container\"><div class=\"sk-text-repr-fallback\"><pre>SVC(C=2)</pre><b>In a Jupyter environment, please rerun this cell to show the HTML representation or trust the notebook. <br />On GitHub, the HTML representation is unable to render, please try loading this page with nbviewer.org.</b></div><div class=\"sk-container\" hidden><div class=\"sk-item\"><div class=\"sk-estimator sk-toggleable\"><input class=\"sk-toggleable__control sk-hidden--visually\" id=\"sk-estimator-id-1\" type=\"checkbox\" checked><label for=\"sk-estimator-id-1\" class=\"sk-toggleable__label sk-toggleable__label-arrow\">SVC</label><div class=\"sk-toggleable__content\"><pre>SVC(C=2)</pre></div></div></div></div></div>"
            ]
          },
          "metadata": {},
          "execution_count": 23
        }
      ]
    },
    {
      "cell_type": "markdown",
      "source": [
        "Yeah it is strange that I am evaling here on data that I trained, before that I trained on train and validated on val, now that I found good parameter of C for SVM I just run this cell to see how good model overfitted."
      ],
      "metadata": {
        "id": "qYAgWFQRtGh3"
      }
    },
    {
      "cell_type": "code",
      "source": [
        "preds = clf.predict(val_embeds)\n",
        "f1 = f1_score(val_labels, preds, average=\"micro\")\n",
        "print(f\"F1 micro on val set: {f1}\")"
      ],
      "metadata": {
        "colab": {
          "base_uri": "https://localhost:8080/"
        },
        "id": "eVZnFpMf4ry7",
        "outputId": "1facb0fc-82af-49eb-d93c-e162fc8d46e2"
      },
      "execution_count": 24,
      "outputs": [
        {
          "output_type": "stream",
          "name": "stdout",
          "text": [
            "F1 micro on val set: 0.9888705234159779\n"
          ]
        }
      ]
    },
    {
      "cell_type": "code",
      "source": [
        "test_preds = clf.predict(test_embeds_concat)"
      ],
      "metadata": {
        "id": "BK0eM66TNhW2"
      },
      "execution_count": 25,
      "outputs": []
    },
    {
      "cell_type": "code",
      "source": [
        "text_labels = [inverse_encoder[label] for label in test_preds.tolist()]\n",
        "\n",
        "test_df = pd.read_csv(\"./sports_data/test.csv\")\n",
        "test_df.insert(1, \"label\", text_labels, True)\n",
        "\n",
        "test_df.to_csv(\"/content/test_submission.csv\", index=False)"
      ],
      "metadata": {
        "id": "6cfB1s9yOD4E"
      },
      "execution_count": 26,
      "outputs": []
    }
  ]
}